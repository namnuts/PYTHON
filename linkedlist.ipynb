{
 "cells": [
  {
   "cell_type": "code",
   "execution_count": 6,
   "id": "22aaf06e-586e-46a0-8999-19e09069dc53",
   "metadata": {},
   "outputs": [
    {
     "name": "stdout",
     "output_type": "stream",
     "text": [
      "dataa: 1000\n",
      "nodee: None\n"
     ]
    }
   ],
   "source": [
    "#creating singly linked list\n",
    "class Node:\n",
    "    def __init__(self,data):\n",
    "        self.data = data\n",
    "        self.node = None\n",
    "singly_linkedlist=Node(1000)\n",
    "print('dataa:',singly_linkedlist.data)\n",
    "print('nodee:',singly_linkedlist.node)"
   ]
  },
  {
   "cell_type": "code",
   "execution_count": 13,
   "id": "6bbdec03-5a4d-4e05-95c5-8d31d2186253",
   "metadata": {},
   "outputs": [
    {
     "name": "stdout",
     "output_type": "stream",
     "text": [
      "1 --> 45 --> 567 --> None\n"
     ]
    }
   ],
   "source": [
    "class Node:\n",
    "    def __init__(nam,data):\n",
    "        nam.data = data\n",
    "        nam.next = None\n",
    "def traverse_thru_llist(head):\n",
    "    current = head\n",
    "    while current is not None:\n",
    "        print(current.data,end= \" --> \")\n",
    "        current = current.next\n",
    "    print('None')\n",
    "       \n",
    "head = Node(1)\n",
    "second = Node(45)\n",
    "third = Node(567)\n",
    "head.next = second\n",
    "second.next = third\n",
    "\n",
    "# Traversing and printing the linked list\n",
    "traverse_thru_llist(head)\n",
    "              \n",
    "    "
   ]
  },
  {
   "cell_type": "code",
   "execution_count": 16,
   "id": "c890e8d2-4ccb-4db4-a289-581d474d0742",
   "metadata": {},
   "outputs": [
    {
     "name": "stdout",
     "output_type": "stream",
     "text": [
      "Element 2 not found in the list.\n",
      "Element 3 found at position 2.\n"
     ]
    }
   ],
   "source": [
    "# Node class for the linked list\n",
    "class Node:\n",
    "    def __init__(self, data):\n",
    "        self.data = data\n",
    "        self.next = None\n",
    "\n",
    "# Function to search for an element in the linked list\n",
    "def search_linked_list(head, target):\n",
    "    current = head\n",
    "    position = 0  # Keeps track of the current node position\n",
    "\n",
    "    while current is not None:\n",
    "        if current.data == target:\n",
    "            return f\"Element {target} found at position {position}.\"\n",
    "        current = current.next\n",
    "        position += 1\n",
    "    \n",
    "    return f\"Element {target} not found in the list.\"\n",
    "\n",
    "# Creating a simple linked list: 1 -> 2 -> 3 -> None\n",
    "head = Node(1)\n",
    "second = Node(200)\n",
    "third = Node(3)\n",
    "\n",
    "# Linking the nodes\n",
    "head.next = second\n",
    "second.next = third\n",
    "\n",
    "# Searching for elements in the linked list\n",
    "print(search_linked_list(head, 2))  # Should print: Element 2 found at position 1.\n",
    "print(search_linked_list(head, 3))  # Should print: Element 4 not found in the list.\n"
   ]
  },
  {
   "cell_type": "markdown",
   "id": "2e5135f6-b84b-4789-9651-7802b9c8a3c1",
   "metadata": {},
   "source": []
  },
  {
   "cell_type": "code",
   "execution_count": 21,
   "id": "1e6763c8-9f8d-48e1-ae39-88119dd161c0",
   "metadata": {},
   "outputs": [
    {
     "name": "stdout",
     "output_type": "stream",
     "text": [
      "element 67 is not found\n"
     ]
    }
   ],
   "source": [
    "class Node:\n",
    "    def __init__(self,data):\n",
    "        self.data = data\n",
    "        self.next = None\n",
    "def search_in_ll(head,target):\n",
    "    current = head\n",
    "    position = 0\n",
    "    while current is not None:\n",
    "        if current == target:\n",
    "            return f'the element{target} is in the position {position}'\n",
    "        current = current.next\n",
    "        position +=1\n",
    "    return f'element {target} is not found'\n",
    "head = Node(1)\n",
    "second = Node(2)\n",
    "third = Node(3)\n",
    "head.next = second\n",
    "second.next = third\n",
    "print(search_in_ll(head,67))\n",
    "\n",
    "        \n",
    "        "
   ]
  },
  {
   "cell_type": "code",
   "execution_count": 22,
   "id": "4e8de73d-bdd6-452b-aa1e-fbed2b8b3803",
   "metadata": {},
   "outputs": [
    {
     "name": "stdout",
     "output_type": "stream",
     "text": [
      "Length of the linked list: 3\n"
     ]
    }
   ],
   "source": [
    "# Node class for the linked list\n",
    "class Node:\n",
    "    def __init__(self, data):\n",
    "        self.data = data\n",
    "        self.next = None\n",
    "\n",
    "# Function to find the length of the linked list\n",
    "def find_length(head):\n",
    "    current = head\n",
    "    length = 0  # Initialize length counter\n",
    "\n",
    "    while current is not None:\n",
    "        length += 1  # Increment counter for each node\n",
    "        current = current.next\n",
    "    \n",
    "    return length\n",
    "\n",
    "# Creating a simple linked list: 1 -> 2 -> 3 -> None\n",
    "head = Node(1)\n",
    "second = Node(2)\n",
    "third = Node(3)\n",
    "\n",
    "# Linking the nodes\n",
    "head.next = second\n",
    "second.next = third\n",
    "\n",
    "# Finding and printing the length of the linked list\n",
    "print(\"Length of the linked list:\", find_length(head))  # Should print: Length of the linked list: 3\n"
   ]
  },
  {
   "cell_type": "code",
   "execution_count": 23,
   "id": "daa1f163-c89b-4887-ae79-95f154fc9cdf",
   "metadata": {},
   "outputs": [
    {
     "name": "stdout",
     "output_type": "stream",
     "text": [
      "Linked list after insertion at the beginning:\n",
      "1 -> 2 -> None\n"
     ]
    }
   ],
   "source": [
    "# Node class for the linked list\n",
    "class Node:\n",
    "    def __init__(self, data):\n",
    "        self.data = data\n",
    "        self.next = None\n",
    "\n",
    "# Function to insert a node at the beginning of the linked list\n",
    "def insert_at_beginning(head, data):\n",
    "    new_node = Node(data)  # Create a new node with the given data\n",
    "    new_node.next = head   # Point the new node's next to the current head\n",
    "    return new_node        # Return the new node as the new head of the list\n",
    "\n",
    "# Function to print the linked list\n",
    "def print_linked_list(head):\n",
    "    current = head\n",
    "    while current is not None:\n",
    "        print(current.data, end=\" -> \")\n",
    "        current = current.next\n",
    "    print(\"None\")\n",
    "\n",
    "# Example usage\n",
    "head = Node(2)  # Create the initial list: 2 -> None\n",
    "head = insert_at_beginning(head, 1)  # Insert 1 at the beginning: 1 -> 2 -> None\n",
    "print(\"Linked list after insertion at the beginning:\")\n",
    "print_linked_list(head)\n"
   ]
  },
  {
   "cell_type": "code",
   "execution_count": null,
   "id": "8d564b4e-a829-4da7-a477-3dd5f3df99ce",
   "metadata": {},
   "outputs": [],
   "source": []
  }
 ],
 "metadata": {
  "kernelspec": {
   "display_name": "Python 3 (ipykernel)",
   "language": "python",
   "name": "python3"
  },
  "language_info": {
   "codemirror_mode": {
    "name": "ipython",
    "version": 3
   },
   "file_extension": ".py",
   "mimetype": "text/x-python",
   "name": "python",
   "nbconvert_exporter": "python",
   "pygments_lexer": "ipython3",
   "version": "3.12.0"
  }
 },
 "nbformat": 4,
 "nbformat_minor": 5
}
