{
  "nbformat": 4,
  "nbformat_minor": 0,
  "metadata": {
    "colab": {
      "provenance": []
    },
    "kernelspec": {
      "name": "python3",
      "display_name": "Python 3"
    },
    "language_info": {
      "name": "python"
    }
  },
  "cells": [
    {
      "cell_type": "markdown",
      "source": [
        "#arithmetic operators"
      ],
      "metadata": {
        "id": "V4q6c0zJ961i"
      }
    },
    {
      "cell_type": "code",
      "execution_count": 1,
      "metadata": {
        "id": "P9CHK44y9aeC"
      },
      "outputs": [],
      "source": [
        "a = 10\n",
        "b = 2\n"
      ]
    },
    {
      "cell_type": "code",
      "source": [
        "a+b #add"
      ],
      "metadata": {
        "colab": {
          "base_uri": "https://localhost:8080/"
        },
        "id": "bonanOrL9_8s",
        "outputId": "ff355272-59dc-4670-c8f0-7895da28c753"
      },
      "execution_count": 2,
      "outputs": [
        {
          "output_type": "execute_result",
          "data": {
            "text/plain": [
              "12"
            ]
          },
          "metadata": {},
          "execution_count": 2
        }
      ]
    },
    {
      "cell_type": "code",
      "source": [
        "a-b #subtract"
      ],
      "metadata": {
        "colab": {
          "base_uri": "https://localhost:8080/"
        },
        "id": "EyTUkpWZ-BL7",
        "outputId": "ba0cade3-e069-48d4-ad5c-dac85059e46f"
      },
      "execution_count": 3,
      "outputs": [
        {
          "output_type": "execute_result",
          "data": {
            "text/plain": [
              "8"
            ]
          },
          "metadata": {},
          "execution_count": 3
        }
      ]
    },
    {
      "cell_type": "code",
      "source": [
        "a*b #multiply"
      ],
      "metadata": {
        "colab": {
          "base_uri": "https://localhost:8080/"
        },
        "id": "xZCC11bv-CD3",
        "outputId": "f4e9a657-54c8-4a5a-e5f3-aae52e4a21f7"
      },
      "execution_count": 4,
      "outputs": [
        {
          "output_type": "execute_result",
          "data": {
            "text/plain": [
              "20"
            ]
          },
          "metadata": {},
          "execution_count": 4
        }
      ]
    },
    {
      "cell_type": "code",
      "source": [
        "a/b # divide"
      ],
      "metadata": {
        "colab": {
          "base_uri": "https://localhost:8080/"
        },
        "id": "Y8w_WCgC-DGS",
        "outputId": "9cd40c85-f574-4475-f825-5f1b9398f61b"
      },
      "execution_count": 5,
      "outputs": [
        {
          "output_type": "execute_result",
          "data": {
            "text/plain": [
              "5.0"
            ]
          },
          "metadata": {},
          "execution_count": 5
        }
      ]
    },
    {
      "cell_type": "code",
      "source": [
        "a//b #floor division"
      ],
      "metadata": {
        "colab": {
          "base_uri": "https://localhost:8080/"
        },
        "id": "m1v6wbjW-D9g",
        "outputId": "ff5005c8-cc5f-48db-ef82-4c2355d7c1a4"
      },
      "execution_count": 6,
      "outputs": [
        {
          "output_type": "execute_result",
          "data": {
            "text/plain": [
              "5"
            ]
          },
          "metadata": {},
          "execution_count": 6
        }
      ]
    },
    {
      "cell_type": "code",
      "source": [
        "a**b # power"
      ],
      "metadata": {
        "colab": {
          "base_uri": "https://localhost:8080/"
        },
        "id": "akDSl9sB-Fb_",
        "outputId": "477c95c9-e913-4ba6-ece0-ca1b45cb04ce"
      },
      "execution_count": 7,
      "outputs": [
        {
          "output_type": "execute_result",
          "data": {
            "text/plain": [
              "100"
            ]
          },
          "metadata": {},
          "execution_count": 7
        }
      ]
    },
    {
      "cell_type": "markdown",
      "source": [
        "#ASSIGNMENT OPERATOR"
      ],
      "metadata": {
        "id": "9whFH8p3-3o_"
      }
    },
    {
      "cell_type": "code",
      "source": [
        "A = 10\n"
      ],
      "metadata": {
        "id": "uKW7hKJX-2Yl"
      },
      "execution_count": 104,
      "outputs": []
    },
    {
      "cell_type": "code",
      "source": [
        "A"
      ],
      "metadata": {
        "colab": {
          "base_uri": "https://localhost:8080/"
        },
        "id": "7o5rv6XU-_6a",
        "outputId": "750845cc-201b-43b3-cd1e-7d341e98da23"
      },
      "execution_count": 105,
      "outputs": [
        {
          "output_type": "execute_result",
          "data": {
            "text/plain": [
              "10"
            ]
          },
          "metadata": {},
          "execution_count": 105
        }
      ]
    },
    {
      "cell_type": "code",
      "source": [
        "A +=2"
      ],
      "metadata": {
        "id": "jGSiRpxL_BJ8"
      },
      "execution_count": 106,
      "outputs": []
    },
    {
      "cell_type": "code",
      "source": [
        "A"
      ],
      "metadata": {
        "colab": {
          "base_uri": "https://localhost:8080/"
        },
        "id": "Uu0rimy3_FCF",
        "outputId": "216e7d89-002f-4af8-8261-14ac62fca3df"
      },
      "execution_count": 107,
      "outputs": [
        {
          "output_type": "execute_result",
          "data": {
            "text/plain": [
              "12"
            ]
          },
          "metadata": {},
          "execution_count": 107
        }
      ]
    },
    {
      "cell_type": "code",
      "source": [],
      "metadata": {
        "id": "1CepI7Kw_MNA"
      },
      "execution_count": 107,
      "outputs": []
    },
    {
      "cell_type": "markdown",
      "source": [
        "#UNARY"
      ],
      "metadata": {
        "id": "q9BoPY6W_NFw"
      }
    },
    {
      "cell_type": "markdown",
      "source": [],
      "metadata": {
        "id": "XrBaYBSx_OLr"
      }
    },
    {
      "cell_type": "code",
      "source": [
        "n = 7\n",
        "nego = -n\n",
        "nego"
      ],
      "metadata": {
        "colab": {
          "base_uri": "https://localhost:8080/"
        },
        "id": "n8fQ1QDs_RvN",
        "outputId": "5a8c3e25-d4b9-4186-9e8c-5310e328fff1"
      },
      "execution_count": 108,
      "outputs": [
        {
          "output_type": "execute_result",
          "data": {
            "text/plain": [
              "-7"
            ]
          },
          "metadata": {},
          "execution_count": 108
        }
      ]
    },
    {
      "cell_type": "code",
      "source": [
        "a = 5\n",
        "b = -a  # b is -5\n",
        "b"
      ],
      "metadata": {
        "colab": {
          "base_uri": "https://localhost:8080/"
        },
        "id": "mB54_MOD_Vmo",
        "outputId": "e99dbd22-dcff-4fd2-8373-21dfca3f4baf"
      },
      "execution_count": 109,
      "outputs": [
        {
          "output_type": "execute_result",
          "data": {
            "text/plain": [
              "-5"
            ]
          },
          "metadata": {},
          "execution_count": 109
        }
      ]
    },
    {
      "cell_type": "code",
      "source": [
        "#Increment and Decrement Operators"
      ],
      "metadata": {
        "id": "TZA-8SRx_7x8"
      },
      "execution_count": 110,
      "outputs": []
    },
    {
      "cell_type": "code",
      "source": [
        "a = True\n",
        "b = not a\n",
        "b\n",
        "\n",
        "\n"
      ],
      "metadata": {
        "colab": {
          "base_uri": "https://localhost:8080/"
        },
        "id": "_gDkbyLN_-7Q",
        "outputId": "cf5fa3d9-8651-4107-8416-90667047fec7"
      },
      "execution_count": 111,
      "outputs": [
        {
          "output_type": "execute_result",
          "data": {
            "text/plain": [
              "False"
            ]
          },
          "metadata": {},
          "execution_count": 111
        }
      ]
    },
    {
      "cell_type": "markdown",
      "source": [
        "#relational Operator (to compare basically)"
      ],
      "metadata": {
        "id": "a2J8QpEOEDKZ"
      }
    },
    {
      "cell_type": "code",
      "source": [
        "a1 = 567\n",
        "a2 = 90\n",
        "a == b"
      ],
      "metadata": {
        "colab": {
          "base_uri": "https://localhost:8080/"
        },
        "id": "lFSpqscjEHR_",
        "outputId": "f2cda7d8-9b97-4f91-e03c-c42a11f0984e"
      },
      "execution_count": 25,
      "outputs": [
        {
          "output_type": "execute_result",
          "data": {
            "text/plain": [
              "False"
            ]
          },
          "metadata": {},
          "execution_count": 25
        }
      ]
    },
    {
      "cell_type": "code",
      "source": [
        "a1 >= a2"
      ],
      "metadata": {
        "colab": {
          "base_uri": "https://localhost:8080/"
        },
        "id": "tORmOAbWEM2O",
        "outputId": "a84cd640-bab3-4562-c3b9-da747e9fc3b6"
      },
      "execution_count": 26,
      "outputs": [
        {
          "output_type": "execute_result",
          "data": {
            "text/plain": [
              "True"
            ]
          },
          "metadata": {},
          "execution_count": 26
        }
      ]
    },
    {
      "cell_type": "code",
      "source": [
        "a1 <= a2"
      ],
      "metadata": {
        "colab": {
          "base_uri": "https://localhost:8080/"
        },
        "id": "K7SQrcGYETRO",
        "outputId": "462d8132-02c5-49e1-bf4d-9f42d74d932c"
      },
      "execution_count": 28,
      "outputs": [
        {
          "output_type": "execute_result",
          "data": {
            "text/plain": [
              "False"
            ]
          },
          "metadata": {},
          "execution_count": 28
        }
      ]
    },
    {
      "cell_type": "markdown",
      "source": [
        "#logical operators"
      ],
      "metadata": {
        "id": "aTitBE-mE43e"
      }
    },
    {
      "cell_type": "code",
      "source": [
        "a1 != a2 and a1 >= a2"
      ],
      "metadata": {
        "colab": {
          "base_uri": "https://localhost:8080/"
        },
        "id": "17uG7YXKEdG5",
        "outputId": "ad3b9d81-7fe3-4d5f-e988-9c76010c6c5f"
      },
      "execution_count": 112,
      "outputs": [
        {
          "output_type": "execute_result",
          "data": {
            "text/plain": [
              "False"
            ]
          },
          "metadata": {},
          "execution_count": 112
        }
      ]
    },
    {
      "cell_type": "code",
      "source": [
        "a1 == a2 and a1 <= a2"
      ],
      "metadata": {
        "colab": {
          "base_uri": "https://localhost:8080/"
        },
        "id": "pvSNMpWAEhYC",
        "outputId": "cc4e67c0-e38c-4187-fd4d-de92454ded3c"
      },
      "execution_count": 113,
      "outputs": [
        {
          "output_type": "execute_result",
          "data": {
            "text/plain": [
              "False"
            ]
          },
          "metadata": {},
          "execution_count": 113
        }
      ]
    },
    {
      "cell_type": "markdown",
      "source": [
        "@book probs"
      ],
      "metadata": {
        "id": "m12d5AK4HbUj"
      }
    },
    {
      "cell_type": "code",
      "source": [
        "d = (1+2)*3**2//2+3\n",
        "print(d) #learn the implementation order for Python."
      ],
      "metadata": {
        "colab": {
          "base_uri": "https://localhost:8080/"
        },
        "id": "dA-ckvECHix-",
        "outputId": "9bb76539-f77c-4315-f60b-37869c7f23b5"
      },
      "execution_count": 114,
      "outputs": [
        {
          "output_type": "stream",
          "name": "stdout",
          "text": [
            "16\n"
          ]
        }
      ]
    },
    {
      "cell_type": "code",
      "source": [
        "a=b=1\n",
        "print(a,b)"
      ],
      "metadata": {
        "colab": {
          "base_uri": "https://localhost:8080/"
        },
        "id": "7P2Kb32EKA0k",
        "outputId": "e5133661-29b0-41ec-85a4-ad40e4bdfaa7"
      },
      "execution_count": 115,
      "outputs": [
        {
          "output_type": "stream",
          "name": "stdout",
          "text": [
            "1 1\n"
          ]
        }
      ]
    },
    {
      "cell_type": "code",
      "source": [
        "a=1;b=2 #assign diff values to diff variables to two variables.\n",
        "print(a,b)"
      ],
      "metadata": {
        "colab": {
          "base_uri": "https://localhost:8080/"
        },
        "id": "JwR08LHDKOC2",
        "outputId": "65611e1e-b857-4353-c7e3-6658c2962efd"
      },
      "execution_count": 116,
      "outputs": [
        {
          "output_type": "stream",
          "name": "stdout",
          "text": [
            "1 2\n"
          ]
        }
      ]
    },
    {
      "cell_type": "code",
      "source": [
        "a1,b1=1,2\n",
        "print(a1,b1)"
      ],
      "metadata": {
        "colab": {
          "base_uri": "https://localhost:8080/"
        },
        "id": "T92U3tIIKgKG",
        "outputId": "488467c9-b34b-4718-d615-e1e89a1a5219"
      },
      "execution_count": 117,
      "outputs": [
        {
          "output_type": "stream",
          "name": "stdout",
          "text": [
            "1 2\n"
          ]
        }
      ]
    },
    {
      "cell_type": "code",
      "source": [
        "a = 1;b=2\n",
        "if (a>b):\n",
        "  print('Yes')\n",
        "else:\n",
        "  print('No')"
      ],
      "metadata": {
        "colab": {
          "base_uri": "https://localhost:8080/"
        },
        "id": "SwwGyTvlKsR_",
        "outputId": "9516c7d5-6c18-409a-a2cb-c75d62e00c73"
      },
      "execution_count": 118,
      "outputs": [
        {
          "output_type": "stream",
          "name": "stdout",
          "text": [
            "No\n"
          ]
        }
      ]
    },
    {
      "cell_type": "code",
      "source": [
        "x=15\n",
        "10<x<20"
      ],
      "metadata": {
        "colab": {
          "base_uri": "https://localhost:8080/"
        },
        "id": "PdEZEXfzK6CK",
        "outputId": "758dc061-ca11-415a-8169-b223c2ab6279"
      },
      "execution_count": 119,
      "outputs": [
        {
          "output_type": "execute_result",
          "data": {
            "text/plain": [
              "True"
            ]
          },
          "metadata": {},
          "execution_count": 119
        }
      ]
    },
    {
      "cell_type": "code",
      "source": [
        "10>=x<20\n"
      ],
      "metadata": {
        "colab": {
          "base_uri": "https://localhost:8080/"
        },
        "id": "tN5AcfRmK-hT",
        "outputId": "17a34786-6b44-439d-c348-f8127c0742b9"
      },
      "execution_count": 120,
      "outputs": [
        {
          "output_type": "execute_result",
          "data": {
            "text/plain": [
              "False"
            ]
          },
          "metadata": {},
          "execution_count": 120
        }
      ]
    },
    {
      "cell_type": "code",
      "source": [
        "10<x>20\n"
      ],
      "metadata": {
        "colab": {
          "base_uri": "https://localhost:8080/"
        },
        "id": "K-Hpq6b-LE18",
        "outputId": "d5917a55-9478-4ba0-a5fc-37a314c037bb"
      },
      "execution_count": 121,
      "outputs": [
        {
          "output_type": "execute_result",
          "data": {
            "text/plain": [
              "False"
            ]
          },
          "metadata": {},
          "execution_count": 121
        }
      ]
    },
    {
      "cell_type": "code",
      "source": [
        "1<2<3<4"
      ],
      "metadata": {
        "colab": {
          "base_uri": "https://localhost:8080/"
        },
        "id": "hUtoKd2bLKuU",
        "outputId": "d3441dc4-1038-49b6-f087-c8b9c156a65c"
      },
      "execution_count": 122,
      "outputs": [
        {
          "output_type": "execute_result",
          "data": {
            "text/plain": [
              "True"
            ]
          },
          "metadata": {},
          "execution_count": 122
        }
      ]
    },
    {
      "cell_type": "code",
      "source": [
        "1>2>4"
      ],
      "metadata": {
        "colab": {
          "base_uri": "https://localhost:8080/"
        },
        "id": "XswyDu4JLNar",
        "outputId": "085e81ae-80ef-4786-af82-2914d894b8e0"
      },
      "execution_count": 123,
      "outputs": [
        {
          "output_type": "execute_result",
          "data": {
            "text/plain": [
              "False"
            ]
          },
          "metadata": {},
          "execution_count": 123
        }
      ]
    },
    {
      "cell_type": "code",
      "source": [
        "#logical operator\n",
        "n = 100\n",
        "m = 10\n",
        "print(n and m)"
      ],
      "metadata": {
        "colab": {
          "base_uri": "https://localhost:8080/"
        },
        "id": "uAKjlWDtLPMf",
        "outputId": "0997de76-c2a7-4263-bcd6-262b0353ff3f"
      },
      "execution_count": 124,
      "outputs": [
        {
          "output_type": "stream",
          "name": "stdout",
          "text": [
            "10\n"
          ]
        }
      ]
    },
    {
      "cell_type": "code",
      "source": [
        "print(n or m)"
      ],
      "metadata": {
        "colab": {
          "base_uri": "https://localhost:8080/"
        },
        "id": "OyhnQARzL5Ak",
        "outputId": "1b215c58-c2c5-4729-f0d5-23565c306075"
      },
      "execution_count": 125,
      "outputs": [
        {
          "output_type": "stream",
          "name": "stdout",
          "text": [
            "100\n"
          ]
        }
      ]
    },
    {
      "cell_type": "code",
      "source": [
        "print(not x)"
      ],
      "metadata": {
        "colab": {
          "base_uri": "https://localhost:8080/"
        },
        "id": "17JV4VZsL-aV",
        "outputId": "751027cb-b776-40d0-9e1b-aaccb9ed000f"
      },
      "execution_count": 126,
      "outputs": [
        {
          "output_type": "stream",
          "name": "stdout",
          "text": [
            "False\n"
          ]
        }
      ]
    },
    {
      "cell_type": "code",
      "source": [
        "x1 = False\n",
        "print(not x1)"
      ],
      "metadata": {
        "colab": {
          "base_uri": "https://localhost:8080/"
        },
        "id": "ymFBQO2jMDYo",
        "outputId": "8282d3a6-a49b-4565-b6a5-8a55da2f70b8"
      },
      "execution_count": 127,
      "outputs": [
        {
          "output_type": "stream",
          "name": "stdout",
          "text": [
            "True\n"
          ]
        }
      ]
    },
    {
      "cell_type": "code",
      "source": [
        "m1,n1,m2=100,20,35\n",
        "if(m1>n1) and (m1>m2):print('Yes')\n",
        "else:print('No')"
      ],
      "metadata": {
        "colab": {
          "base_uri": "https://localhost:8080/"
        },
        "id": "z7yi8i9jMPpP",
        "outputId": "b996d4f7-0c66-4a0b-b266-0e0b7728d98e"
      },
      "execution_count": 128,
      "outputs": [
        {
          "output_type": "stream",
          "name": "stdout",
          "text": [
            "Yes\n"
          ]
        }
      ]
    },
    {
      "cell_type": "code",
      "source": [
        "#Booleanoperators\n",
        "alo = True\n",
        "blo = False\n",
        "\n"
      ],
      "metadata": {
        "id": "7BumZJv9M268"
      },
      "execution_count": 129,
      "outputs": []
    },
    {
      "cell_type": "code",
      "source": [
        "alo and blo"
      ],
      "metadata": {
        "colab": {
          "base_uri": "https://localhost:8080/"
        },
        "id": "hx70uN8HPq0B",
        "outputId": "22eccaae-2b72-44fb-b54b-4a5bb5880b18"
      },
      "execution_count": 130,
      "outputs": [
        {
          "output_type": "execute_result",
          "data": {
            "text/plain": [
              "False"
            ]
          },
          "metadata": {},
          "execution_count": 130
        }
      ]
    },
    {
      "cell_type": "code",
      "source": [
        "alo or blo"
      ],
      "metadata": {
        "colab": {
          "base_uri": "https://localhost:8080/"
        },
        "id": "jwCYsVUsPnLJ",
        "outputId": "2def0641-3c1f-4f6f-ee8e-29e366afe282"
      },
      "execution_count": 131,
      "outputs": [
        {
          "output_type": "execute_result",
          "data": {
            "text/plain": [
              "True"
            ]
          },
          "metadata": {},
          "execution_count": 131
        }
      ]
    },
    {
      "cell_type": "code",
      "source": [
        "not alo"
      ],
      "metadata": {
        "colab": {
          "base_uri": "https://localhost:8080/"
        },
        "id": "mWsSYXm0PwRy",
        "outputId": "bcbade83-0bfa-42a1-d2dd-9611960a9dee"
      },
      "execution_count": 132,
      "outputs": [
        {
          "output_type": "execute_result",
          "data": {
            "text/plain": [
              "False"
            ]
          },
          "metadata": {},
          "execution_count": 132
        }
      ]
    },
    {
      "cell_type": "code",
      "source": [
        "not blo"
      ],
      "metadata": {
        "colab": {
          "base_uri": "https://localhost:8080/"
        },
        "id": "7NMAh_d3P0AA",
        "outputId": "60a4394e-066a-4deb-dc35-1fd978c1709c"
      },
      "execution_count": 133,
      "outputs": [
        {
          "output_type": "execute_result",
          "data": {
            "text/plain": [
              "True"
            ]
          },
          "metadata": {},
          "execution_count": 133
        }
      ]
    },
    {
      "cell_type": "markdown",
      "source": [
        "#membership OPERATORS"
      ],
      "metadata": {
        "id": "xoQuKAtDP2cM"
      }
    },
    {
      "cell_type": "code",
      "source": [
        "names = ['Rani','Yamini','Sushmita','Veena']\n",
        "for nam in names:\n",
        "  print(nam)"
      ],
      "metadata": {
        "colab": {
          "base_uri": "https://localhost:8080/"
        },
        "id": "jaMar_MxP19U",
        "outputId": "185a1018-8fd9-4fb4-d0d3-6d4ed98d2bec"
      },
      "execution_count": 134,
      "outputs": [
        {
          "output_type": "stream",
          "name": "stdout",
          "text": [
            "Rani\n",
            "Yamini\n",
            "Sushmita\n",
            "Veena\n"
          ]
        }
      ]
    },
    {
      "cell_type": "code",
      "source": [
        "postal_code={'Delhi':10,'Mumbai':70,'Jaipur':90,'hyderbad':99}\n",
        "for city in postal_code:\n",
        "  print(city,postal_code[city])"
      ],
      "metadata": {
        "colab": {
          "base_uri": "https://localhost:8080/"
        },
        "id": "mFYsRhC_Qa0x",
        "outputId": "d3a6672e-449d-42f4-c641-424879257729"
      },
      "execution_count": 135,
      "outputs": [
        {
          "output_type": "stream",
          "name": "stdout",
          "text": [
            "Delhi 10\n",
            "Mumbai 70\n",
            "Jaipur 90\n",
            "hyderbad 99\n"
          ]
        }
      ]
    },
    {
      "cell_type": "markdown",
      "source": [
        "#identity operator"
      ],
      "metadata": {
        "id": "69dhVP5DRL-S"
      }
    },
    {
      "cell_type": "code",
      "source": [
        "non = 67\n",
        "mom = 798\n",
        "id(non)"
      ],
      "metadata": {
        "colab": {
          "base_uri": "https://localhost:8080/"
        },
        "id": "oH8QDo4EQzAi",
        "outputId": "374d61f0-ee63-492b-9f1a-76137e1e108a"
      },
      "execution_count": 136,
      "outputs": [
        {
          "output_type": "execute_result",
          "data": {
            "text/plain": [
              "134215642171696"
            ]
          },
          "metadata": {},
          "execution_count": 136
        }
      ]
    },
    {
      "cell_type": "code",
      "source": [
        "id(mom)"
      ],
      "metadata": {
        "colab": {
          "base_uri": "https://localhost:8080/"
        },
        "id": "oc4XlbY9Q43u",
        "outputId": "bd3cc2fd-17c5-451f-b253-3a3a938f24f5"
      },
      "execution_count": 137,
      "outputs": [
        {
          "output_type": "execute_result",
          "data": {
            "text/plain": [
              "134214344574928"
            ]
          },
          "metadata": {},
          "execution_count": 137
        }
      ]
    },
    {
      "cell_type": "code",
      "source": [
        "non1=67\n",
        "id(non1)"
      ],
      "metadata": {
        "colab": {
          "base_uri": "https://localhost:8080/"
        },
        "id": "52KHqiSqQ6jk",
        "outputId": "366c3d0c-ab3c-4b53-e6f2-ed74abf4adee"
      },
      "execution_count": 138,
      "outputs": [
        {
          "output_type": "execute_result",
          "data": {
            "text/plain": [
              "134215642171696"
            ]
          },
          "metadata": {},
          "execution_count": 138
        }
      ]
    },
    {
      "cell_type": "code",
      "source": [
        "a = 25\n",
        "b = 25\n",
        "if(a is b):\n",
        "  print(\"a and b have same identity\")\n",
        "else:\n",
        "  print('a and b do not have same identity')"
      ],
      "metadata": {
        "colab": {
          "base_uri": "https://localhost:8080/"
        },
        "id": "B9ZL7OVEQ-81",
        "outputId": "1a05fcf1-c0f6-4a09-d293-2cd322fc8a51"
      },
      "execution_count": 139,
      "outputs": [
        {
          "output_type": "stream",
          "name": "stdout",
          "text": [
            "a and b have same identity\n"
          ]
        }
      ]
    },
    {
      "cell_type": "code",
      "source": [
        "onee=[1,2,3,4,5]\n",
        "twoo=[1,2,3,4,5]\n",
        "if(onee is twoo):\n",
        "  print('onee and twoo are same')\n",
        "else:\n",
        "  print('onee and twoo are NOT same') #wont compare the values , it compares only identity numbers of lists."
      ],
      "metadata": {
        "colab": {
          "base_uri": "https://localhost:8080/"
        },
        "id": "YE-OXK75Rf7N",
        "outputId": "af4162a3-12d0-439c-bdd6-e3649a269f70"
      },
      "execution_count": 140,
      "outputs": [
        {
          "output_type": "stream",
          "name": "stdout",
          "text": [
            "onee and twoo are NOT same\n"
          ]
        }
      ]
    },
    {
      "cell_type": "code",
      "source": [
        "id((onee))"
      ],
      "metadata": {
        "colab": {
          "base_uri": "https://localhost:8080/"
        },
        "id": "DGuNYucsSJD_",
        "outputId": "15ff150a-2c7f-4b08-a93c-bb11c05d9cdb"
      },
      "execution_count": 141,
      "outputs": [
        {
          "output_type": "execute_result",
          "data": {
            "text/plain": [
              "134214345586944"
            ]
          },
          "metadata": {},
          "execution_count": 141
        }
      ]
    },
    {
      "cell_type": "code",
      "source": [
        "id((twoo))"
      ],
      "metadata": {
        "colab": {
          "base_uri": "https://localhost:8080/"
        },
        "id": "1iVw0fWgSMsK",
        "outputId": "ae53b131-b610-4958-f1a3-1905fee1fc5b"
      },
      "execution_count": 142,
      "outputs": [
        {
          "output_type": "execute_result",
          "data": {
            "text/plain": [
              "134214345559360"
            ]
          },
          "metadata": {},
          "execution_count": 142
        }
      ]
    },
    {
      "cell_type": "code",
      "source": [
        "#basically both the lists are created at different operators actually."
      ],
      "metadata": {
        "id": "pxrqHxdgSSQR"
      },
      "execution_count": 143,
      "outputs": []
    },
    {
      "cell_type": "markdown",
      "source": [
        "#operator precedence"
      ],
      "metadata": {
        "id": "tGq2jjLgSdny"
      }
    },
    {
      "cell_type": "markdown",
      "source": [
        "() >    **  > -(unary minus),~(bitwise complement)   > *,/,//,%    > +,-   > (>>,<<) , & , ^ , | > >,>=,<=,==,!= > =,%=,/=,//+,-=,+=,*=,**= > is , is not>  in, not in > not > or > and."
      ],
      "metadata": {
        "id": "bGpcn2YqSiBz"
      }
    },
    {
      "cell_type": "markdown",
      "source": [
        "#math functions"
      ],
      "metadata": {
        "id": "hx4fLCa2T20_"
      }
    },
    {
      "cell_type": "code",
      "source": [
        "import math"
      ],
      "metadata": {
        "id": "H2ZJLCRGTyTP"
      },
      "execution_count": 144,
      "outputs": []
    },
    {
      "cell_type": "code",
      "source": [
        "x = math.sqrt(16)\n",
        "x"
      ],
      "metadata": {
        "colab": {
          "base_uri": "https://localhost:8080/"
        },
        "id": "9CWW9klHT_gy",
        "outputId": "49a8cd3e-124c-4abd-ff09-f96f24b93a75"
      },
      "execution_count": 145,
      "outputs": [
        {
          "output_type": "execute_result",
          "data": {
            "text/plain": [
              "4.0"
            ]
          },
          "metadata": {},
          "execution_count": 145
        }
      ]
    },
    {
      "cell_type": "code",
      "source": [
        "import math as m\n",
        "x1 = m.sqrt(36)\n",
        "x1"
      ],
      "metadata": {
        "colab": {
          "base_uri": "https://localhost:8080/"
        },
        "id": "YL8aWvlkUHGx",
        "outputId": "cfd0074a-1228-42a6-8a40-a36efe007521"
      },
      "execution_count": 146,
      "outputs": [
        {
          "output_type": "execute_result",
          "data": {
            "text/plain": [
              "6.0"
            ]
          },
          "metadata": {},
          "execution_count": 146
        }
      ]
    },
    {
      "cell_type": "code",
      "source": [
        "from math import factorial\n",
        "y=factorial(5)\n",
        "y"
      ],
      "metadata": {
        "colab": {
          "base_uri": "https://localhost:8080/"
        },
        "id": "UsLNgxbbUOGo",
        "outputId": "8d9e2068-6ecf-4186-91a2-fce34a9a0f86"
      },
      "execution_count": 147,
      "outputs": [
        {
          "output_type": "execute_result",
          "data": {
            "text/plain": [
              "120"
            ]
          },
          "metadata": {},
          "execution_count": 147
        }
      ]
    },
    {
      "cell_type": "markdown",
      "source": [
        "ceil(x)\tSmallest integer ≥ x\tint\n",
        "floor(x)\tLargest integer ≤ x\tint\n",
        "degrees(x)\tConvert angle x from radians to degrees\tfloat\n",
        "radians(x)\tConvert angle x from degrees to radians\tfloat\n",
        "sin(x)\tSine of angle x (in radians)\tfloat\n",
        "exp(x)\te raised to the power x\tfloat\n",
        "factorial(x)\tFactorial of x (non-negative integer)\tint\n",
        "fmod(x, y)\tFloating-point remainder of x / y\tfloat\n",
        "fsum(iterable)\tAccurate floating-point sum of numbers in iterable\tfloat\n",
        "modf(x)\tFractional and integer parts of x\ttuple (float, float"
      ],
      "metadata": {
        "id": "4L_kGiqfWLTg"
      }
    },
    {
      "cell_type": "code",
      "source": [
        "import math\n",
        "\n",
        "print(math.ceil(4.2))   # Output: 5\n",
        "print(math.ceil(-3.7))  # Output: -3\n",
        "print(math.ceil(5.0))   # Output: 5\n"
      ],
      "metadata": {
        "colab": {
          "base_uri": "https://localhost:8080/"
        },
        "id": "XVhPk3ElUYGa",
        "outputId": "ca5d1244-6730-46fd-e1e4-7b5946978030"
      },
      "execution_count": 148,
      "outputs": [
        {
          "output_type": "stream",
          "name": "stdout",
          "text": [
            "5\n",
            "-3\n",
            "5\n"
          ]
        }
      ]
    },
    {
      "cell_type": "code",
      "source": [
        "import math\n",
        "\n",
        "print(math.floor(4.7))    # Output: 4\n",
        "print(math.floor(-3.2))   # Output: -4\n",
        "print(math.floor(5.0))    # Output: 5\n"
      ],
      "metadata": {
        "colab": {
          "base_uri": "https://localhost:8080/"
        },
        "id": "PVkTixCIWb4M",
        "outputId": "2ec8e026-73f7-4a76-9cf0-278f3228dc73"
      },
      "execution_count": 149,
      "outputs": [
        {
          "output_type": "stream",
          "name": "stdout",
          "text": [
            "4\n",
            "-4\n",
            "5\n"
          ]
        }
      ]
    },
    {
      "cell_type": "code",
      "source": [
        "\n",
        "radians = math.pi / 2\n",
        "degrees = math.degrees(radians)\n",
        "print(degrees)  # Output: 90.0\n"
      ],
      "metadata": {
        "colab": {
          "base_uri": "https://localhost:8080/"
        },
        "id": "GjWZEZZZWhEK",
        "outputId": "41a283e4-2dd2-48d8-83be-b3bac44619ab"
      },
      "execution_count": 150,
      "outputs": [
        {
          "output_type": "stream",
          "name": "stdout",
          "text": [
            "90.0\n"
          ]
        }
      ]
    },
    {
      "cell_type": "code",
      "source": [
        "rads=math.(3*pi/2)\n",
        "deg=math.rads\n",
        "print(deg) #basically math.pi imp madaaammmmm."
      ],
      "metadata": {
        "colab": {
          "base_uri": "https://localhost:8080/",
          "height": 105
        },
        "id": "9Mw0WQmwWuxw",
        "outputId": "8178377a-6897-4f83-e366-ccb03bd83b70"
      },
      "execution_count": 151,
      "outputs": [
        {
          "output_type": "error",
          "ename": "SyntaxError",
          "evalue": "invalid syntax (<ipython-input-151-6e12715d7f1d>, line 1)",
          "traceback": [
            "\u001b[0;36m  File \u001b[0;32m\"<ipython-input-151-6e12715d7f1d>\"\u001b[0;36m, line \u001b[0;32m1\u001b[0m\n\u001b[0;31m    rads=math.(3*pi/2)\u001b[0m\n\u001b[0m              ^\u001b[0m\n\u001b[0;31mSyntaxError\u001b[0m\u001b[0;31m:\u001b[0m invalid syntax\n"
          ]
        }
      ]
    },
    {
      "cell_type": "code",
      "source": [
        "deg=math.degrees(rads)\n",
        "deg"
      ],
      "metadata": {
        "id": "BND0fTtBXPu8"
      },
      "execution_count": null,
      "outputs": []
    },
    {
      "cell_type": "code",
      "source": [
        "rads = 3 * math.pi / 2\n",
        "print(rads)  # Output: 4.71238898038469\n"
      ],
      "metadata": {
        "id": "X4z0OLjuXHyb"
      },
      "execution_count": null,
      "outputs": []
    },
    {
      "cell_type": "code",
      "source": [
        "\n",
        "print(math.factorial(5))  # Output: 120\n",
        "print(math.factorial(0))  # Output: 1\n"
      ],
      "metadata": {
        "id": "XrSPmSfzXg20"
      },
      "execution_count": null,
      "outputs": []
    },
    {
      "cell_type": "code",
      "source": [
        "#Returns the floating-point remainder of x / y.\n",
        "print(math.fmod(9.5, 2.1))   # Output: 1.3\n",
        "print(math.fmod(-9.5, 2.1))  # Output: -1.3"
      ],
      "metadata": {
        "id": "zkmj3E1gZhCB"
      },
      "execution_count": null,
      "outputs": []
    },
    {
      "cell_type": "code",
      "source": [
        "#Returns an accurate floating-point sum of values in an iterable, avoiding loss of precision.\n",
        "numbers = [0.1] * 1000\n",
        "print(math.fsum(numbers))"
      ],
      "metadata": {
        "id": "k5_nwnn-Z5iq"
      },
      "execution_count": null,
      "outputs": []
    },
    {
      "cell_type": "code",
      "source": [
        "#Splits the floating-point number x into its fractional and integer parts.\n",
        "result = math.modf(3.14)\n",
        "print(result)  # Output: (0.14000000000000012, 3.0)\n",
        "\n",
        "result = math.modf(-2.718)\n",
        "print(result)"
      ],
      "metadata": {
        "id": "s5ucsmD4aIlb"
      },
      "execution_count": null,
      "outputs": []
    },
    {
      "cell_type": "code",
      "source": [
        "print(math.gcd(48, 18))  # Output: 6\n",
        "print(math.gcd(7, 3))"
      ],
      "metadata": {
        "id": "nbRONLQhaXCu"
      },
      "execution_count": null,
      "outputs": []
    },
    {
      "cell_type": "code",
      "source": [
        "print(math.pow(2, 3))  # Output: 8.0\n",
        "print(math.pow(9, 0.5))  # Output: 3.0 (square root of 9)"
      ],
      "metadata": {
        "id": "QlV01ERMdkSV"
      },
      "execution_count": null,
      "outputs": []
    },
    {
      "cell_type": "code",
      "source": [
        "print(math.sqrt(16))  # Output: 4.0\n",
        "print(math.sqrt(2))   # Output: 1.4142135623730951"
      ],
      "metadata": {
        "id": "NbiObfnaeR-p"
      },
      "execution_count": null,
      "outputs": []
    },
    {
      "cell_type": "code",
      "source": [
        "print(math.isinf(float('inf')))   # Output: True\n",
        "print(math.isinf(float('-inf')))  # Output: True\n",
        "print(math.isinf(10))             # Output: False"
      ],
      "metadata": {
        "id": "Ozp4e2u1eVAm"
      },
      "execution_count": null,
      "outputs": []
    },
    {
      "cell_type": "code",
      "source": [
        "print(math.isnan(float('nan')))  # Output: True\n",
        "print(math.isnan(100))"
      ],
      "metadata": {
        "id": "VrYhhmHEeZ3G"
      },
      "execution_count": null,
      "outputs": []
    },
    {
      "cell_type": "code",
      "source": [
        "print(math.trunc(5.9))   # Output: 5\n",
        "print(math.trunc(-5.9))  # Output: -5"
      ],
      "metadata": {
        "id": "5KooCf3XedF3"
      },
      "execution_count": null,
      "outputs": []
    }
  ]
}